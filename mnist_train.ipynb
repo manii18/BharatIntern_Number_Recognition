{
 "cells": [
  {
   "cell_type": "markdown",
   "metadata": {
    "_uuid": "1976eb3fb0f4524f8641833247f7eef69b6afebd"
   },
   "source": [
    "Importing required python modules\n",
    "1. pandas and numpy for reading csv files and saving the results\n",
    "2. matplotlib and seaborn for plotting graphs to visualise and make sense of data\n",
    "3. np_utils for \"one-hot encoding\" of labels"
   ]
  },
  {
   "cell_type": "code",
   "execution_count": 1,
   "metadata": {
    "_cell_guid": "b1076dfc-b9ad-4769-8c92-a6c4dae69d19",
    "_uuid": "8f2839f25d086af736a60e9eeb907d3b93b6e0e5"
   },
   "outputs": [
    {
     "name": "stderr",
     "output_type": "stream",
     "text": [
      "/opt/conda/lib/python3.6/site-packages/h5py/__init__.py:36: FutureWarning: Conversion of the second argument of issubdtype from `float` to `np.floating` is deprecated. In future, it will be treated as `np.float64 == np.dtype(float).type`.\n",
      "  from ._conv import register_converters as _register_converters\n",
      "Using TensorFlow backend.\n"
     ]
    }
   ],
   "source": [
    "import pandas as pd\n",
    "import numpy as np\n",
    "import matplotlib.pyplot as plt\n",
    "import matplotlib.image as mpimg\n",
    "import seaborn as sns\n",
    "from keras.utils import np_utils\n",
    "%matplotlib inline"
   ]
  },
  {
   "cell_type": "markdown",
   "metadata": {
    "_uuid": "4d261d218055b3551257657fb6ae7070789e04fb"
   },
   "source": [
    "Importing data from csv files:\n",
    "1. train.csv : The training data set, has 785 columns. The first column, called \"label\", is the digit that was drawn by the user. The rest of the columns contain the pixel-values of the associated image.\n",
    "2. test.csv: The test data set, (test.csv), is the same as the training set, except that it does not contain the \"label\" column.\n",
    "\n",
    "Reading train data using pandas.\n",
    "\n"
   ]
  },
  {
   "cell_type": "code",
   "execution_count": 2,
   "metadata": {
    "_cell_guid": "79c7e3d0-c299-4dcb-8224-4455121ee9b0",
    "_uuid": "d629ff2d2480ee46fbb7e2d37f6b5fab8052498a"
   },
   "outputs": [
    {
     "name": "stdout",
     "output_type": "stream",
     "text": [
      "Data loaded, ready to go!\n"
     ]
    }
   ],
   "source": [
    "data = pd.read_csv(\"../input/train.csv\")\n",
    "data = data.values\n",
    "label = data[:,0]\n",
    "data = data[:,1:]\n",
    "\n",
    "print(\"Data loaded, ready to go!\")"
   ]
  },
  {
   "cell_type": "code",
   "execution_count": 3,
   "metadata": {
    "_uuid": "d3753a7add38650a9b5e7efa0b5b8527a1411b40"
   },
   "outputs": [
    {
     "data": {
      "image/png": "[encoded data removed]",
      "text/plain": [
       "<matplotlib.figure.Figure at 0x7fa77a364160>"
      ]
     },
     "metadata": {},
     "output_type": "display_data"
    }
   ],
   "source": [
    "g = sns.countplot(label)"
   ]
  },
  {
   "cell_type": "markdown",
   "metadata": {
    "_uuid": "31973fa0f4f20d2ffec4eb8e3668962fc014289c",
    "collapsed": true
   },
   "source": [
    "Diving data and label into two parts: train and validation.\n",
    "We have a separate test.csv file for testing our model predictions"
   ]
  },
  {
   "cell_type": "code",
   "execution_count": 4,
   "metadata": {
    "_uuid": "053b9dba1b91c71305e19343230b7329538e19f2"
   },
   "outputs": [
    {
     "name": "stdout",
     "output_type": "stream",
     "text": [
      "train_data shape:  (35000, 1, 28, 28)\n",
      "train_label shape:  (35000, 10)\n",
      "valid_data shape:  (7000, 1, 28, 28)\n",
      "valid_label shape:  (7000, 10)\n"
     ]
    }
   ],
   "source": [
    "\n",
    "train_data=data[:35000,:]\n",
    "valid_data=data[35000:,:]\n",
    "\n",
    "\n",
    "train_data = train_data.reshape(train_data.shape[0], 1, 28, 28).astype('float32')\n",
    "valid_data = valid_data.reshape(valid_data.shape[0], 1, 28, 28).astype('float32')\n",
    "\n",
    "\n",
    "train_data = train_data / 255\n",
    "valid_data= valid_data/255\n",
    "\n",
    "\n",
    "train_label = label[:35000]\n",
    "valid_label = label[35000:]\n",
    "\n",
    "\n",
    "\n",
    "train_label = np_utils.to_categorical(train_label)\n",
    "valid_label = np_utils.to_categorical(valid_label)\n",
    "\n",
    "\n",
    "print(\"train_data shape: \",train_data.shape)\n",
    "print(\"train_label shape: \",train_label.shape)\n",
    "print(\"valid_data shape: \",valid_data.shape)\n",
    "print(\"valid_label shape: \",valid_label.shape)"
   ]
  },
  {
   "cell_type": "markdown",
   "metadata": {
    "_uuid": "1af9d926660eb3880ad0e4cb5c66c032f11ede59"
   },
   "source": [
    "Importing modules needed to build model\n",
    "Keras does provide a lot of capability for creating convolutional neural networks."
   ]
  },
  {
   "cell_type": "code",
   "execution_count": 5,
   "metadata": {
    "_uuid": "4c3c18e6f503ce6a56e12c73edc1207c9a5d3b5d",
    "collapsed": true
   },
   "outputs": [],
   "source": [
    "from keras.models import Sequential\n",
    "from keras.layers import Dense\n",
    "from keras.layers import Dropout\n",
    "from keras.layers import Flatten\n",
    "from keras.layers.convolutional import Conv2D\n",
    "from keras.layers.convolutional import MaxPooling2D\n",
    "from keras.utils import np_utils\n",
    "from keras import backend as K\n",
    "K.set_image_dim_ordering('th')\n",
    "\n",
    "\n",
    "seed = 7\n",
    "np.random.seed(seed)"
   ]
  },
  {
   "cell_type": "markdown",
   "metadata": {
    "_uuid": "c69c0701c1084022f59dc1ffec33ec8886866402"
   },
   "source": [
    "Define a function to create a model"
   ]
  },
  {
   "cell_type": "code",
   "execution_count": 6,
   "metadata": {
    "_uuid": "dff559899ab9a7705d9c2dcec5cdbdf61d4ebf07",
    "collapsed": true
   },
   "outputs": [],
   "source": [
    "def create_model():\n",
    "    \n",
    "    model = Sequential()\n",
    "    model.add(Conv2D(32, (5, 5), input_shape=(1, 28, 28), activation='relu'))\n",
    "    model.add(MaxPooling2D(pool_size=(2, 2)))\n",
    "    model.add(Dropout(0.2))\n",
    "    model.add(Flatten())\n",
    "    model.add(Dense(128, activation='relu'))\n",
    "    model.add(Dense(10, activation='softmax'))\n",
    "    \n",
    "    model.compile(loss='categorical_crossentropy', optimizer='adam', metrics=['accuracy'])\n",
    "    return model"
   ]
  },
  {
   "cell_type": "markdown",
   "metadata": {
    "_uuid": "53f4a7b167027287b525314767a9267b5ddaf7cf"
   },
   "source": [
    "Passing training and validation data along with labels to model"
   ]
  },
  {
   "cell_type": "code",
   "execution_count": 7,
   "metadata": {
    "_uuid": "b1124814d1f7d24b2a1e33cec590ff92807cfee3"
   },
   "outputs": [
    {
     "name": "stdout",
     "output_type": "stream",
     "text": [
      "Train on 35000 samples, validate on 7000 samples\n",
      "Epoch 1/10\n",
      " - 5s - loss: 0.3262 - acc: 0.9066 - val_loss: 0.1186 - val_acc: 0.9660\n",
      "Epoch 2/10\n",
      " - 2s - loss: 0.0956 - acc: 0.9716 - val_loss: 0.0731 - val_acc: 0.9774\n",
      "Epoch 3/10\n",
      " - 2s - loss: 0.0646 - acc: 0.9810 - val_loss: 0.0633 - val_acc: 0.9804\n",
      "Epoch 4/10\n",
      " - 2s - loss: 0.0513 - acc: 0.9847 - val_loss: 0.0563 - val_acc: 0.9829\n",
      "Epoch 5/10\n",
      " - 2s - loss: 0.0408 - acc: 0.9872 - val_loss: 0.0514 - val_acc: 0.9844\n",
      "Epoch 6/10\n",
      " - 2s - loss: 0.0309 - acc: 0.9904 - val_loss: 0.0570 - val_acc: 0.9833\n",
      "Epoch 7/10\n",
      " - 2s - loss: 0.0282 - acc: 0.9916 - val_loss: 0.0655 - val_acc: 0.9800\n",
      "Epoch 8/10\n",
      " - 2s - loss: 0.0231 - acc: 0.9929 - val_loss: 0.0478 - val_acc: 0.9859\n",
      "Epoch 9/10\n",
      " - 2s - loss: 0.0211 - acc: 0.9937 - val_loss: 0.0521 - val_acc: 0.9854\n",
      "Epoch 10/10\n",
      " - 2s - loss: 0.0190 - acc: 0.9939 - val_loss: 0.0507 - val_acc: 0.9851\n"
     ]
    },
    {
     "data": {
      "text/plain": [
       "<keras.callbacks.History at 0x7fa756f745c0>"
      ]
     },
     "execution_count": 7,
     "metadata": {},
     "output_type": "execute_result"
    }
   ],
   "source": [
    "\n",
    "model = create_model()\n",
    "\n",
    "model.fit(train_data, train_label, validation_data=(valid_data, valid_label), epochs=10, batch_size=200, verbose=2)\n"
   ]
  },
  {
   "cell_type": "code",
   "execution_count": 8,
   "metadata": {
    "_uuid": "23e342cce3be6515dcfb10bd780b591bfbaeb2a3"
   },
   "outputs": [
    {
     "name": "stdout",
     "output_type": "stream",
     "text": [
      "CNN Error: 1.49%\n"
     ]
    }
   ],
   "source": [
    "\n",
    "scores = model.evaluate(valid_data, valid_label, verbose=0)\n",
    "print(\"CNN Error: %.2f%%\" % (100-scores[1]*100))"
   ]
  },
  {
   "cell_type": "markdown",
   "metadata": {
    "_uuid": "25377bafcf1ca418f32cab5ab4f68558c0a916bd"
   },
   "source": [
    "Exciting! we have trained our model\n",
    "Saving model weights for later use"
   ]
  },
  {
   "cell_type": "code",
   "execution_count": 9,
   "metadata": {
    "_uuid": "dfe9153fbbdde64a4d5d754f9ce1e466095e018a"
   },
   "outputs": [
    {
     "name": "stdout",
     "output_type": "stream",
     "text": [
      "model weights saved in model.h5 file\n"
     ]
    }
   ],
   "source": [
    "model.save(\"model.h5\")\n",
    "print(\"model weights saved in model.h5 file\")"
   ]
  },
  {
   "cell_type": "markdown",
   "metadata": {
    "_uuid": "7998d66d539b2f50f9a70e735f39484240c3835b"
   },
   "source": [
    "Saving model information in .json file"
   ]
  },
  {
   "cell_type": "code",
   "execution_count": 10,
   "metadata": {
    "_uuid": "2f8de0384de4e7395cb43ce0e593b4479f80fe34"
   },
   "outputs": [
    {
     "name": "stdout",
     "output_type": "stream",
     "text": [
      "model saved as model.json file\n"
     ]
    }
   ],
   "source": [
    "from keras.models import model_from_json\n",
    "model_json = model.to_json()\n",
    "with open(\"model.json\", \"w\") as json_file:\n",
    "    json_file.write(model_json)\n",
    "print(\"model saved as model.json file\")"
   ]
  }
 ],
 "metadata": {
  "kernelspec": {
   "display_name": "Python 3 (ipykernel)",
   "language": "python",
   "name": "python3"
  },
  "language_info": {
   "codemirror_mode": {
    "name": "ipython",
    "version": 3
   },
   "file_extension": ".py",
   "mimetype": "text/x-python",
   "name": "python",
   "nbconvert_exporter": "python",
   "pygments_lexer": "ipython3",
   "version": "3.9.17"
  }
 },
 "nbformat": 4,
 "nbformat_minor": 1
}
